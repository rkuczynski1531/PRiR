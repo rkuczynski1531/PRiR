{
  "nbformat": 4,
  "nbformat_minor": 0,
  "metadata": {
    "colab": {
      "name": "PRiR_Lab12_Zad1.ipynb",
      "private_outputs": true,
      "provenance": [],
      "collapsed_sections": [],
      "toc_visible": true
    },
    "kernelspec": {
      "display_name": "Python 3",
      "name": "python3"
    }
  },
  "cells": [
    {
      "cell_type": "markdown",
      "metadata": {
        "id": "XUmNqU4FJm-Y"
      },
      "source": [
        "##### Copyright 2019 Google LLC."
      ]
    },
    {
      "cell_type": "code",
      "metadata": {
        "cellView": "form",
        "id": "fEIKi4xPLIhh"
      },
      "source": [
        "#@title Licensed under the Apache License, Version 2.0 (the \"License\");\n",
        "# you may not use this file except in compliance with the License.\n",
        "# You may obtain a copy of the License at\n",
        "#\n",
        "# https://www.apache.org/licenses/LICENSE-2.0\n",
        "#\n",
        "# Unless required by applicable law or agreed to in writing, software\n",
        "# distributed under the License is distributed on an \"AS IS\" BASIS,\n",
        "# WITHOUT WARRANTIES OR CONDITIONS OF ANY KIND, either express or implied.\n",
        "# See the License for the specific language governing permissions and\n",
        "# limitations under the License."
      ],
      "execution_count": null,
      "outputs": []
    },
    {
      "cell_type": "markdown",
      "metadata": {
        "id": "4s5mp7vHPJZh"
      },
      "source": [
        "# Get Started with TensorFlow Graphics\n",
        "<table class=\"tfo-notebook-buttons\" align=\"left\">\n",
        "  <td>\n",
        "    <a target=\"_blank\" href=\"https://www.tensorflow.org/graphics\"><img src=\"https://www.tensorflow.org/images/tf_logo_32px.png\" />View on TensorFlow.org</a>\n",
        "  </td>\n",
        "  <td>\n",
        "    <a target=\"_blank\" href=\"https://colab.research.google.com/github/tensorflow/graphics/blob/master/tensorflow_graphics/g3doc/_index.ipynb\"><img src=\"https://www.tensorflow.org/images/colab_logo_32px.png\" />Run in Google Colab</a>\n",
        "  </td>\n",
        "  <td>\n",
        "    <a target=\"_blank\" href=\"https://github.com/tensorflow/graphics/tree/master/tensorflow_graphics/g3doc/_index.ipynb\"><img src=\"https://www.tensorflow.org/images/GitHub-Mark-32px.png\" />View source on GitHub</a>\n",
        "  </td>\n",
        "</table>"
      ]
    },
    {
      "cell_type": "markdown",
      "metadata": {
        "id": "q4fzyll4LvQc"
      },
      "source": [
        "If Tensorflow Graphics and Trimesh are not installed on your system the following cell can install these packages for you."
      ]
    },
    {
      "cell_type": "code",
      "metadata": {
        "id": "IJihqZ7TLYCp"
      },
      "source": [
        "!pip install tensorflow-graphics\n",
        "!pip install trimesh"
      ],
      "execution_count": null,
      "outputs": []
    },
    {
      "cell_type": "markdown",
      "metadata": {
        "id": "St8jfrN0MfPs"
      },
      "source": [
        "Now that Tensorflow Graphics and Trimesh are installed, let's import everything needed."
      ]
    },
    {
      "cell_type": "code",
      "metadata": {
        "id": "Qy1CfOu7ioF8"
      },
      "source": [
        "import numpy as np\n",
        "import tensorflow as tf\n",
        "import trimesh\n",
        "\n",
        "import tensorflow_graphics.geometry.transformation as tfg_transformation\n",
        "from tensorflow_graphics.notebooks import threejs_visualization"
      ],
      "execution_count": null,
      "outputs": []
    },
    {
      "cell_type": "markdown",
      "metadata": {
        "id": "WvVeZ1RVNWAr"
      },
      "source": [
        "We can now load a mesh and rotate it using TensorFlow Graphics."
      ]
    },
    {
      "cell_type": "code",
      "metadata": {
        "id": "39Vm7iSONAHs"
      },
      "source": [
        "# Download the mesh.\n",
        "# Courtesy of Keenan Crane www.cs.cmu.edu/~kmcrane/Projects/ModelRepository/.\n",
        "!wget -N http://groups.csail.mit.edu/graphics/classes/6.837/F03/models/teapot.obj\n",
        "# Load the mesh.\n",
        "mesh = trimesh.load(\"teapot.obj\")\n",
        "mesh = {\"vertices\": mesh.vertices, \"faces\": mesh.faces}\n",
        "# Visualize the original mesh.\n",
        "_ = threejs_visualization.triangular_mesh_renderer(mesh, width=400, height=400)\n",
        "# Set the axis and angle parameters.\n",
        "axis = np.array((0., 1., 0.))  # y axis.\n",
        "angle = np.array((np.pi / 4.,))  # 45 degree angle.\n",
        "# Rotate the mesh.\n",
        "mesh[\"vertices\"] = tfg_transformation.axis_angle.rotate(mesh[\"vertices\"], axis,\n",
        "                                                        angle).numpy()\n",
        "# Visualize the rotated mesh.\n",
        "_ = threejs_visualization.triangular_mesh_renderer(mesh, width=400, height=400)"
      ],
      "execution_count": null,
      "outputs": []
    }
  ]
}