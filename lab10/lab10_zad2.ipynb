{
  "nbformat": 4,
  "nbformat_minor": 0,
  "metadata": {
    "colab": {
      "name": "lab10_zad2.ipynb",
      "provenance": []
    },
    "kernelspec": {
      "name": "python3",
      "display_name": "Python 3"
    }
  },
  "cells": [
    {
      "cell_type": "code",
      "metadata": {
        "id": "Aki5pcEfjq5_"
      },
      "source": [
        "import tensorflow as tf\r\n",
        "import numpy as np\r\n",
        "from tensorflow import keras\r\n"
      ],
      "execution_count": 6,
      "outputs": []
    },
    {
      "cell_type": "code",
      "metadata": {
        "id": "1pgUesGyn9K-"
      },
      "source": [
        "model = tf.keras.Sequential()\r\n",
        "model.add(keras.layers.Dense(units=200, input_shape=[1]))\r\n",
        "model.add(keras.layers.Activation('relu'))\r\n",
        "model.add(keras.layers.Dense(units=160))\r\n",
        "model.add(keras.layers.Activation('relu'))\r\n",
        "model.add(keras.layers.Dense(units=45))\r\n",
        "model.add(keras.layers.Activation('relu'))\r\n",
        "model.add(keras.layers.Dense(units=1))\r\n"
      ],
      "execution_count": 7,
      "outputs": []
    },
    {
      "cell_type": "code",
      "metadata": {
        "id": "d8iQQfgVobrQ"
      },
      "source": [
        "model.compile(optimizer=tf.keras.optimizers.Adam(learning_rate=1e-1), loss='mean_squared_error', metrics=['mean_squared_error'])"
      ],
      "execution_count": 8,
      "outputs": []
    },
    {
      "cell_type": "code",
      "metadata": {
        "id": "7OSZliayok9_"
      },
      "source": [
        "xs = np.array([-3.0, -2.0, -1.0, 0.0, 1.0, 1.5, 2.0, 2.5, 3.0, 4.0, 5.0, 6.0, 7.0,], dtype=float)\r\n",
        "ys = np.array([-70.0, -24.0, 0.0, 8.0, 6.0, 3.725, 0.0, -2.625, -4.0, 0.0, 18.0, 56.0, 120.0], dtype=float)"
      ],
      "execution_count": 9,
      "outputs": []
    },
    {
      "cell_type": "code",
      "metadata": {
        "id": "ARHdubKeomd_"
      },
      "source": [
        "model.fit(xs, ys, epochs=1500)"
      ],
      "execution_count": null,
      "outputs": []
    },
    {
      "cell_type": "code",
      "metadata": {
        "colab": {
          "base_uri": "https://localhost:8080/"
        },
        "id": "nCyizRu7otLL",
        "outputId": "abd5202d-f4c6-481c-af63-fed22b07c38c"
      },
      "source": [
        "print(model.predict([8.0]))\r\n"
      ],
      "execution_count": 11,
      "outputs": [
        {
          "output_type": "stream",
          "text": [
            "[[187.8351]]\n"
          ],
          "name": "stdout"
        }
      ]
    }
  ]
}