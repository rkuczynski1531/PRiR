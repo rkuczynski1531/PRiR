{
  "nbformat": 4,
  "nbformat_minor": 0,
  "metadata": {
    "colab": {
      "name": "lab10_zad1.ipynb",
      "provenance": [],
      "collapsed_sections": []
    },
    "kernelspec": {
      "name": "python3",
      "display_name": "Python 3"
    }
  },
  "cells": [
    {
      "cell_type": "code",
      "metadata": {
        "id": "-DC0cNlVae2w"
      },
      "source": [
        "import math\r\n",
        "\r\n",
        "def funkcja(x):\r\n",
        "  return math.sin(0.4 * math.pow(x, 2) - 2.1) / math.sqrt(1.1 * x + 0.3)\r\n",
        "\r\n",
        "def M_trapezow():\r\n",
        "  a = float(input(\"Podaj poczatek przedzialu: \"))\r\n",
        "  b = float(input(\"Podaj koniec przedzialu: \"))\r\n",
        "  n = int(input(\"Podaj n: \"))\r\n",
        "  dx = (b - a) / n\r\n",
        "  wynik = 0\r\n",
        "  for i in range(1, n):\r\n",
        "    wynik += (funkcja(a + (i * dx ))) * dx\r\n",
        "  wynik += (funkcja(a)/2 * dx) + (funkcja(b)/2 * dx)\r\n",
        "  return wynik\r\n",
        "\r\n",
        "def M_simpsona():\r\n",
        "  a = float(input(\"Podaj poczatek przedzialu: \"))\r\n",
        "  b = float(input(\"Podaj koniec przedzialu: \"))\r\n",
        "  n = int(input(\"Podaj n: \"))\r\n",
        "  tmp1 = (b - a) / n\r\n",
        "  dx = (b - (b - tmp1)) / 2\r\n",
        "  t = 0\r\n",
        "  wynik = 0\r\n",
        "  a1 = a\r\n",
        "  a2 = a\r\n",
        "  for i in range(0, n):\r\n",
        "    tmp = a2 + dx\r\n",
        "    t += 4 * funkcja(tmp)\r\n",
        "    a2 += tmp1\r\n",
        "  for i in range(1, n):\r\n",
        "    tmp2 = a1 + tmp1\r\n",
        "    wynik += 2 * funkcja(tmp2)\r\n",
        "    a1 += tmp1\r\n",
        "  wynik = (dx / 3) * (funkcja(a) + funkcja(b) + t + wynik)\r\n",
        "  return wynik\r\n",
        "\r\n",
        "def M_prostokatow():\r\n",
        "  a = float(input(\"Podaj poczatek przedzialu: \"))\r\n",
        "  b = float(input(\"Podaj koniec przedzialu: \"))\r\n",
        "  n = int(input(\"Podaj n: \"))\r\n",
        "  dx = (b - a) / n\r\n",
        "  wynik = 0\r\n",
        "  for i in range(1, n+1):\r\n",
        "    wynik += funkcja(a + i * dx)\r\n",
        "  wynik *= dx\r\n",
        "  return wynik\r\n",
        "\r\n"
      ],
      "execution_count": 53,
      "outputs": []
    },
    {
      "cell_type": "code",
      "metadata": {
        "colab": {
          "base_uri": "https://localhost:8080/"
        },
        "id": "jehG7-2Pb1gM",
        "outputId": "ec8d2df3-f92a-4435-e1df-0f5064e3a9cc"
      },
      "source": [
        "M_trapezow()"
      ],
      "execution_count": 54,
      "outputs": [
        {
          "output_type": "stream",
          "text": [
            "Podaj poczatek przedzialu: 1\n",
            "Podaj koniec przedzialu: 10\n",
            "Podaj n: 50\n"
          ],
          "name": "stdout"
        },
        {
          "output_type": "execute_result",
          "data": {
            "text/plain": [
              "-0.42779599611588226"
            ]
          },
          "metadata": {
            "tags": []
          },
          "execution_count": 54
        }
      ]
    },
    {
      "cell_type": "code",
      "metadata": {
        "colab": {
          "base_uri": "https://localhost:8080/"
        },
        "id": "Vg1vOkTqgmn7",
        "outputId": "ccb99570-a66b-4bc8-d935-5220359030c1"
      },
      "source": [
        "M_prostokatow()"
      ],
      "execution_count": 55,
      "outputs": [
        {
          "output_type": "stream",
          "text": [
            "Podaj poczatek przedzialu: 1\n",
            "Podaj koniec przedzialu: 10\n",
            "Podaj n: 50\n"
          ],
          "name": "stdout"
        },
        {
          "output_type": "execute_result",
          "data": {
            "text/plain": [
              "-0.34702376666542667"
            ]
          },
          "metadata": {
            "tags": []
          },
          "execution_count": 55
        }
      ]
    },
    {
      "cell_type": "code",
      "metadata": {
        "colab": {
          "base_uri": "https://localhost:8080/"
        },
        "id": "TbR21Zhagmur",
        "outputId": "b1a60ba7-8981-480f-95cb-543d182278f9"
      },
      "source": [
        "M_simpsona()"
      ],
      "execution_count": 56,
      "outputs": [
        {
          "output_type": "stream",
          "text": [
            "Podaj poczatek przedzialu: 1\n",
            "Podaj koniec przedzialu: 10\n",
            "Podaj n: 50\n"
          ],
          "name": "stdout"
        },
        {
          "output_type": "execute_result",
          "data": {
            "text/plain": [
              "-0.43372223885294164"
            ]
          },
          "metadata": {
            "tags": []
          },
          "execution_count": 56
        }
      ]
    }
  ]
}